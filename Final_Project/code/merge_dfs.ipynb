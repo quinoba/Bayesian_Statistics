{
 "cells": [
  {
   "cell_type": "code",
   "execution_count": 44,
   "id": "cf96d1a3",
   "metadata": {},
   "outputs": [],
   "source": [
    "import os\n",
    "import pandas as pd\n",
    "import requests\n",
    "from bs4 import BeautifulSoup\n",
    "from tqdm import tqdm\n",
    "import re\n",
    "from datetime import date\n",
    "import datetime\n",
    "import time\n",
    "import numpy as np\n",
    "from requests.adapters import HTTPAdapter\n",
    "from urllib3.util.retry import Retry\n",
    "from time import sleep\n",
    "\n",
    "# Folder path where the DataFrames are located\n",
    "folder_path = '../data/raw_data/england/'\n",
    "\n",
    "# Initialize a list to store the DataFrames\n",
    "dfs = []\n",
    "\n",
    "# Iterate through the files in the folder\n",
    "for filename in os.listdir(folder_path):\n",
    "    if filename.endswith('.csv'):  # Assuming the files are in CSV format\n",
    "        file_path = os.path.join(folder_path, filename)\n",
    "        df = pd.read_csv(file_path)\n",
    "        if int(df.Date.iloc[1].split('/')[2]) < 2000:\n",
    "            df['Season'] = int(df.Date.iloc[1].split('/')[2]) +2000\n",
    "        else:\n",
    "            df['Season'] = int(df.Date.iloc[1].split('/')[2])\n",
    "        dfs.append(df)\n",
    "\n",
    "# Concatenate the DataFrames\n",
    "merged_df = pd.concat(dfs, ignore_index=True, sort=False).drop_duplicates()\n",
    "\n",
    "# Rename variables to be consistent with Swedish Df\n",
    "merged_df.rename(columns={'Div':'League', 'HomeTeam':'Home', 'AwayTeam':'Away',\n",
    "                         'FTHG':'HG','FTAG':'AG', 'FTR':'Res',\n",
    "                         'PSH':'PH', 'PSD':'PD', 'PSA': 'PA'}, inplace=True)\n",
    "\n",
    "merged_df['Country'] = 'England'\n",
    "# merged_df now contains the union of all DataFrames, handling additional or missing columns\n",
    "\n",
    "#Keep only variables that are also in Swedish Data\n",
    "variables = ['Country', 'League', 'Season', 'Date','Time','Home','Away','HG', 'AG', 'Res', 'PH', 'PD', 'PA', 'MaxH', 'MaxD', 'MaxA', 'AvgH', 'AvgD', 'AvgA']\n",
    "merged_df = merged_df[variables]\n",
    "merged_df['League'] = merged_df['League'].replace({'E1': 'Championship', 'E0': 'Premier'})\n",
    "\n",
    "df_swe = pd.read_excel('../data/raw_data/sweden/SWE.xlsx')\n",
    "\n",
    "merged_df_swe_eng = pd.concat([merged_df, df_swe], ignore_index=True, sort=False).drop_duplicates()\n",
    "merged_df_swe_eng.dropna(subset=['Home'], inplace=True)\n",
    "# To save the merged DataFrame to a CSV file, you can do the following:\n",
    "merged_df_swe_eng.to_excel('../data/final_data/all_seasons.xlsx', index=False)\n"
   ]
  },
  {
   "cell_type": "code",
   "execution_count": 79,
   "id": "1361854a",
   "metadata": {},
   "outputs": [],
   "source": [
    "fifa_ratings = pd.read_csv(\"../data/raw_data/fifa/male_teams.csv\")\n",
    "fifa_ratings = fifa_ratings[['fifa_version', 'team_name', 'league_name', 'overall', 'attack', 'midfield', 'defence']]\n",
    "fifa_ratings = fifa_ratings[(fifa_ratings['league_name']=='Premier League') | (fifa_ratings['league_name']=='Championship') | (fifa_ratings['league_name']=='Allsvenskan') | (fifa_ratings['league_name']=='Premier League') | (fifa_ratings['league_name']=='League One')]"
   ]
  },
  {
   "cell_type": "code",
   "execution_count": 80,
   "id": "b6665afd",
   "metadata": {},
   "outputs": [],
   "source": [
    "fifa_ratings['Season']=fifa_ratings['fifa_version']-1+2000\n",
    "fifa_ratings = fifa_ratings[['team_name','Season','overall', 'attack', 'midfield', 'defence']]"
   ]
  },
  {
   "cell_type": "code",
   "execution_count": 81,
   "id": "be0ee162",
   "metadata": {},
   "outputs": [],
   "source": [
    "fifa_ratings.rename(columns={'team_name':'Home',\n",
    "                            'overall':'home_overall', \n",
    "                             'attack':'home_attack', \n",
    "                             'midfield':'home_midfield', \n",
    "                             'defence':'home_defence'}, inplace=True)"
   ]
  },
  {
   "cell_type": "code",
   "execution_count": 82,
   "id": "7189e359",
   "metadata": {},
   "outputs": [],
   "source": [
    "merged_df_swe_eng_14 = merged_df_swe_eng[merged_df_swe_eng['Season']>2013]"
   ]
  },
  {
   "cell_type": "code",
   "execution_count": 83,
   "id": "1971830b",
   "metadata": {},
   "outputs": [],
   "source": [
    "home_match = merged_df_swe_eng_14.merge(fifa_ratings, on=['Home', 'Season'], how='left')"
   ]
  },
  {
   "cell_type": "code",
   "execution_count": 84,
   "id": "08add05d",
   "metadata": {},
   "outputs": [],
   "source": [
    "fifa_ratings.rename(columns={'Home':'Away',\n",
    "                            'home_overall':'away_overall', \n",
    "                             'home_attack':'away_attack', \n",
    "                             'home_midfield':'away_midfield', \n",
    "                             'home_defence':'away_defence'}, inplace=True)"
   ]
  },
  {
   "cell_type": "code",
   "execution_count": 173,
   "id": "895f451d",
   "metadata": {},
   "outputs": [],
   "source": [
    "final_match = home_match.merge(fifa_ratings, on=['Away', 'Season'], how='left')"
   ]
  },
  {
   "cell_type": "code",
   "execution_count": 179,
   "id": "eaf0bc52",
   "metadata": {},
   "outputs": [],
   "source": [
    "final_match.to_excel('../data/final_data/all_seasons_fifa.xlsx', index=False)"
   ]
  },
  {
   "cell_type": "code",
   "execution_count": 204,
   "id": "0e5c603a",
   "metadata": {},
   "outputs": [],
   "source": [
    "final_match = pd.read_excel('../data/final_data/all_seasons_fifa.xlsx')"
   ]
  },
  {
   "cell_type": "code",
   "execution_count": 175,
   "id": "21869f5a",
   "metadata": {},
   "outputs": [],
   "source": [
    "final_match = final_match[~final_match['home_attack'].isnull()].reset_index(drop=True)"
   ]
  },
  {
   "cell_type": "code",
   "execution_count": 176,
   "id": "16511a84",
   "metadata": {},
   "outputs": [],
   "source": [
    "final_match = final_match[~final_match['away_attack'].isnull()].reset_index(drop=True)"
   ]
  },
  {
   "cell_type": "code",
   "execution_count": 177,
   "id": "20aaec2c",
   "metadata": {},
   "outputs": [],
   "source": [
    "final_match['home_avg_rating'] = (final_match['home_attack'] + final_match['home_midfield'] + final_match['home_defence'])/3"
   ]
  },
  {
   "cell_type": "code",
   "execution_count": 178,
   "id": "3de39c05",
   "metadata": {},
   "outputs": [],
   "source": [
    "final_match['away_avg_rating'] = (final_match['away_attack'] + final_match['away_midfield'] + final_match['away_defence'])/3"
   ]
  },
  {
   "cell_type": "code",
   "execution_count": 180,
   "id": "7a142526",
   "metadata": {},
   "outputs": [],
   "source": [
    "final_match_grouped = final_match.drop_duplicates(['Season', 'League', 'Home', 'home_avg_rating']).sort_values(by=['Season', 'League', 'home_avg_rating'], ascending=[True, True, False])"
   ]
  },
  {
   "cell_type": "code",
   "execution_count": 181,
   "id": "76221e44",
   "metadata": {},
   "outputs": [],
   "source": [
    "# Luego, agrupa el DataFrame por 'Season' y 'League'\n",
    "grouped = final_match_grouped.groupby(['Season', 'League'])\n",
    "\n",
    "# Aplica la clasificación a la columna 'home_avg_rating' dentro de cada grupo\n",
    "final_match_grouped['rank'] = grouped['home_avg_rating'].rank(ascending=False, method='first')\n",
    "\n",
    "# Ahora, tu DataFrame contendrá una columna 'rank' que muestra el rango de cada equipo en cada temporada y liga según 'home_avg_rating'\n"
   ]
  },
  {
   "cell_type": "code",
   "execution_count": 182,
   "id": "81b8510d",
   "metadata": {},
   "outputs": [],
   "source": [
    "final_match_grouped = final_match_grouped[['Home', 'Season', 'League', 'rank']].rename(columns={'rank':'home_rank'})"
   ]
  },
  {
   "cell_type": "code",
   "execution_count": 187,
   "id": "32e30b2f",
   "metadata": {},
   "outputs": [],
   "source": [
    "final_match_grouped.rename(columns={'Home':'Away','home_rank':'away_rank' }, inplace=True)"
   ]
  },
  {
   "cell_type": "code",
   "execution_count": 189,
   "id": "a1992c6d",
   "metadata": {},
   "outputs": [],
   "source": [
    "final_match = final_match.merge(final_match_grouped, on=['Away', 'Season', 'League'], how='left')"
   ]
  },
  {
   "cell_type": "code",
   "execution_count": 202,
   "id": "1a73a111",
   "metadata": {},
   "outputs": [
    {
     "data": {
      "text/html": [
       "<div>\n",
       "<style scoped>\n",
       "    .dataframe tbody tr th:only-of-type {\n",
       "        vertical-align: middle;\n",
       "    }\n",
       "\n",
       "    .dataframe tbody tr th {\n",
       "        vertical-align: top;\n",
       "    }\n",
       "\n",
       "    .dataframe thead th {\n",
       "        text-align: right;\n",
       "    }\n",
       "</style>\n",
       "<table border=\"1\" class=\"dataframe\">\n",
       "  <thead>\n",
       "    <tr style=\"text-align: right;\">\n",
       "      <th></th>\n",
       "      <th>Away</th>\n",
       "      <th>Season</th>\n",
       "      <th>League</th>\n",
       "      <th>away_rank</th>\n",
       "    </tr>\n",
       "  </thead>\n",
       "  <tbody>\n",
       "    <tr>\n",
       "      <th>8600</th>\n",
       "      <td>Brommapojkarna</td>\n",
       "      <td>2014</td>\n",
       "      <td>Allsvenskan</td>\n",
       "      <td>16.0</td>\n",
       "    </tr>\n",
       "    <tr>\n",
       "      <th>9572</th>\n",
       "      <td>Brommapojkarna</td>\n",
       "      <td>2018</td>\n",
       "      <td>Allsvenskan</td>\n",
       "      <td>16.0</td>\n",
       "    </tr>\n",
       "    <tr>\n",
       "      <th>10768</th>\n",
       "      <td>Brommapojkarna</td>\n",
       "      <td>2023</td>\n",
       "      <td>Allsvenskan</td>\n",
       "      <td>11.0</td>\n",
       "    </tr>\n",
       "  </tbody>\n",
       "</table>\n",
       "</div>"
      ],
      "text/plain": [
       "                 Away  Season       League  away_rank\n",
       "8600   Brommapojkarna    2014  Allsvenskan       16.0\n",
       "9572   Brommapojkarna    2018  Allsvenskan       16.0\n",
       "10768  Brommapojkarna    2023  Allsvenskan       11.0"
      ]
     },
     "execution_count": 202,
     "metadata": {},
     "output_type": "execute_result"
    }
   ],
   "source": [
    "final_match_grouped[final_match_grouped['Away']=='Brommapojkarna']"
   ]
  },
  {
   "cell_type": "code",
   "execution_count": null,
   "id": "fe91986f",
   "metadata": {},
   "outputs": [],
   "source": [
    "final_match.to_excel('../data/final_data/all_seasons_ranking.xlsx', index=False)"
   ]
  },
  {
   "cell_type": "code",
   "execution_count": 213,
   "id": "ff147ecc",
   "metadata": {},
   "outputs": [
    {
     "data": {
      "text/plain": [
       "'Allsvenskan '"
      ]
     },
     "execution_count": 213,
     "metadata": {},
     "output_type": "execute_result"
    }
   ],
   "source": [
    "final_match.drop_duplicates(['League']).tail(60).League.iloc[-1]"
   ]
  },
  {
   "cell_type": "code",
   "execution_count": 135,
   "id": "aaaeb1b3",
   "metadata": {},
   "outputs": [
    {
     "ename": "ValueError",
     "evalue": "cannot insert home_avg_rating, already exists",
     "output_type": "error",
     "traceback": [
      "\u001b[0;31m---------------------------------------------------------------------------\u001b[0m",
      "\u001b[0;31mValueError\u001b[0m                                Traceback (most recent call last)",
      "Input \u001b[0;32mIn [135]\u001b[0m, in \u001b[0;36m<cell line: 2>\u001b[0;34m()\u001b[0m\n\u001b[1;32m      1\u001b[0m \u001b[38;5;66;03m# Agrupa por 'Season', 'League', y 'Home', calcula la calificación promedio ('home_avg_rating') para cada equipo en cada temporada y liga\u001b[39;00m\n\u001b[0;32m----> 2\u001b[0m df_grouped \u001b[38;5;241m=\u001b[39m \u001b[43mfinal_match_grouped\u001b[49m\u001b[38;5;241;43m.\u001b[39;49m\u001b[43mgroupby\u001b[49m\u001b[43m(\u001b[49m\u001b[43m[\u001b[49m\u001b[38;5;124;43m'\u001b[39;49m\u001b[38;5;124;43mSeason\u001b[39;49m\u001b[38;5;124;43m'\u001b[39;49m\u001b[43m,\u001b[49m\u001b[43m \u001b[49m\u001b[38;5;124;43m'\u001b[39;49m\u001b[38;5;124;43mLeague\u001b[39;49m\u001b[38;5;124;43m'\u001b[39;49m\u001b[43m,\u001b[49m\u001b[43m \u001b[49m\u001b[38;5;124;43m'\u001b[39;49m\u001b[38;5;124;43mHome\u001b[39;49m\u001b[38;5;124;43m'\u001b[39;49m\u001b[43m,\u001b[49m\u001b[43m \u001b[49m\u001b[38;5;124;43m'\u001b[39;49m\u001b[38;5;124;43mhome_avg_rating\u001b[39;49m\u001b[38;5;124;43m'\u001b[39;49m\u001b[43m]\u001b[49m\u001b[43m)\u001b[49m\u001b[43m[\u001b[49m\u001b[38;5;124;43m'\u001b[39;49m\u001b[38;5;124;43mhome_avg_rating\u001b[39;49m\u001b[38;5;124;43m'\u001b[39;49m\u001b[43m]\u001b[49m\u001b[38;5;241;43m.\u001b[39;49m\u001b[43mmean\u001b[49m\u001b[43m(\u001b[49m\u001b[43m)\u001b[49m\u001b[38;5;241;43m.\u001b[39;49m\u001b[43mreset_index\u001b[49m\u001b[43m(\u001b[49m\u001b[43m)\u001b[49m\n\u001b[1;32m      4\u001b[0m \u001b[38;5;66;03m# Ordena el DataFrame según 'Season', 'League', y 'home_avg_rating' de forma descendente\u001b[39;00m\n\u001b[1;32m      5\u001b[0m df_grouped\u001b[38;5;241m.\u001b[39msort_values(by\u001b[38;5;241m=\u001b[39m[\u001b[38;5;124m'\u001b[39m\u001b[38;5;124mSeason\u001b[39m\u001b[38;5;124m'\u001b[39m, \u001b[38;5;124m'\u001b[39m\u001b[38;5;124mLeague\u001b[39m\u001b[38;5;124m'\u001b[39m, \u001b[38;5;124m'\u001b[39m\u001b[38;5;124mhome_avg_rating\u001b[39m\u001b[38;5;124m'\u001b[39m], ascending\u001b[38;5;241m=\u001b[39m[\u001b[38;5;28;01mTrue\u001b[39;00m, \u001b[38;5;28;01mTrue\u001b[39;00m, \u001b[38;5;28;01mFalse\u001b[39;00m], inplace\u001b[38;5;241m=\u001b[39m\u001b[38;5;28;01mTrue\u001b[39;00m)\n",
      "File \u001b[0;32m~/miniforge3/envs/env_tf/lib/python3.9/site-packages/pandas/util/_decorators.py:311\u001b[0m, in \u001b[0;36mdeprecate_nonkeyword_arguments.<locals>.decorate.<locals>.wrapper\u001b[0;34m(*args, **kwargs)\u001b[0m\n\u001b[1;32m    305\u001b[0m \u001b[38;5;28;01mif\u001b[39;00m \u001b[38;5;28mlen\u001b[39m(args) \u001b[38;5;241m>\u001b[39m num_allow_args:\n\u001b[1;32m    306\u001b[0m     warnings\u001b[38;5;241m.\u001b[39mwarn(\n\u001b[1;32m    307\u001b[0m         msg\u001b[38;5;241m.\u001b[39mformat(arguments\u001b[38;5;241m=\u001b[39marguments),\n\u001b[1;32m    308\u001b[0m         \u001b[38;5;167;01mFutureWarning\u001b[39;00m,\n\u001b[1;32m    309\u001b[0m         stacklevel\u001b[38;5;241m=\u001b[39mstacklevel,\n\u001b[1;32m    310\u001b[0m     )\n\u001b[0;32m--> 311\u001b[0m \u001b[38;5;28;01mreturn\u001b[39;00m \u001b[43mfunc\u001b[49m\u001b[43m(\u001b[49m\u001b[38;5;241;43m*\u001b[39;49m\u001b[43margs\u001b[49m\u001b[43m,\u001b[49m\u001b[43m \u001b[49m\u001b[38;5;241;43m*\u001b[39;49m\u001b[38;5;241;43m*\u001b[39;49m\u001b[43mkwargs\u001b[49m\u001b[43m)\u001b[49m\n",
      "File \u001b[0;32m~/miniforge3/envs/env_tf/lib/python3.9/site-packages/pandas/core/series.py:1494\u001b[0m, in \u001b[0;36mSeries.reset_index\u001b[0;34m(self, level, drop, name, inplace)\u001b[0m\n\u001b[1;32m   1491\u001b[0m         name \u001b[38;5;241m=\u001b[39m \u001b[38;5;28mself\u001b[39m\u001b[38;5;241m.\u001b[39mname\n\u001b[1;32m   1493\u001b[0m df \u001b[38;5;241m=\u001b[39m \u001b[38;5;28mself\u001b[39m\u001b[38;5;241m.\u001b[39mto_frame(name)\n\u001b[0;32m-> 1494\u001b[0m \u001b[38;5;28;01mreturn\u001b[39;00m \u001b[43mdf\u001b[49m\u001b[38;5;241;43m.\u001b[39;49m\u001b[43mreset_index\u001b[49m\u001b[43m(\u001b[49m\u001b[43mlevel\u001b[49m\u001b[38;5;241;43m=\u001b[39;49m\u001b[43mlevel\u001b[49m\u001b[43m,\u001b[49m\u001b[43m \u001b[49m\u001b[43mdrop\u001b[49m\u001b[38;5;241;43m=\u001b[39;49m\u001b[43mdrop\u001b[49m\u001b[43m)\u001b[49m\n",
      "File \u001b[0;32m~/miniforge3/envs/env_tf/lib/python3.9/site-packages/pandas/util/_decorators.py:311\u001b[0m, in \u001b[0;36mdeprecate_nonkeyword_arguments.<locals>.decorate.<locals>.wrapper\u001b[0;34m(*args, **kwargs)\u001b[0m\n\u001b[1;32m    305\u001b[0m \u001b[38;5;28;01mif\u001b[39;00m \u001b[38;5;28mlen\u001b[39m(args) \u001b[38;5;241m>\u001b[39m num_allow_args:\n\u001b[1;32m    306\u001b[0m     warnings\u001b[38;5;241m.\u001b[39mwarn(\n\u001b[1;32m    307\u001b[0m         msg\u001b[38;5;241m.\u001b[39mformat(arguments\u001b[38;5;241m=\u001b[39marguments),\n\u001b[1;32m    308\u001b[0m         \u001b[38;5;167;01mFutureWarning\u001b[39;00m,\n\u001b[1;32m    309\u001b[0m         stacklevel\u001b[38;5;241m=\u001b[39mstacklevel,\n\u001b[1;32m    310\u001b[0m     )\n\u001b[0;32m--> 311\u001b[0m \u001b[38;5;28;01mreturn\u001b[39;00m \u001b[43mfunc\u001b[49m\u001b[43m(\u001b[49m\u001b[38;5;241;43m*\u001b[39;49m\u001b[43margs\u001b[49m\u001b[43m,\u001b[49m\u001b[43m \u001b[49m\u001b[38;5;241;43m*\u001b[39;49m\u001b[38;5;241;43m*\u001b[39;49m\u001b[43mkwargs\u001b[49m\u001b[43m)\u001b[49m\n",
      "File \u001b[0;32m~/miniforge3/envs/env_tf/lib/python3.9/site-packages/pandas/core/frame.py:5833\u001b[0m, in \u001b[0;36mDataFrame.reset_index\u001b[0;34m(self, level, drop, inplace, col_level, col_fill)\u001b[0m\n\u001b[1;32m   5827\u001b[0m         \u001b[38;5;28;01mif\u001b[39;00m lab \u001b[38;5;129;01mis\u001b[39;00m \u001b[38;5;129;01mnot\u001b[39;00m \u001b[38;5;28;01mNone\u001b[39;00m:\n\u001b[1;32m   5828\u001b[0m             \u001b[38;5;66;03m# if we have the codes, extract the values with a mask\u001b[39;00m\n\u001b[1;32m   5829\u001b[0m             level_values \u001b[38;5;241m=\u001b[39m algorithms\u001b[38;5;241m.\u001b[39mtake(\n\u001b[1;32m   5830\u001b[0m                 level_values, lab, allow_fill\u001b[38;5;241m=\u001b[39m\u001b[38;5;28;01mTrue\u001b[39;00m, fill_value\u001b[38;5;241m=\u001b[39mlev\u001b[38;5;241m.\u001b[39m_na_value\n\u001b[1;32m   5831\u001b[0m             )\n\u001b[0;32m-> 5833\u001b[0m         \u001b[43mnew_obj\u001b[49m\u001b[38;5;241;43m.\u001b[39;49m\u001b[43minsert\u001b[49m\u001b[43m(\u001b[49m\u001b[38;5;241;43m0\u001b[39;49m\u001b[43m,\u001b[49m\u001b[43m \u001b[49m\u001b[43mname\u001b[49m\u001b[43m,\u001b[49m\u001b[43m \u001b[49m\u001b[43mlevel_values\u001b[49m\u001b[43m)\u001b[49m\n\u001b[1;32m   5835\u001b[0m new_obj\u001b[38;5;241m.\u001b[39mindex \u001b[38;5;241m=\u001b[39m new_index\n\u001b[1;32m   5836\u001b[0m \u001b[38;5;28;01mif\u001b[39;00m \u001b[38;5;129;01mnot\u001b[39;00m inplace:\n",
      "File \u001b[0;32m~/miniforge3/envs/env_tf/lib/python3.9/site-packages/pandas/core/frame.py:4434\u001b[0m, in \u001b[0;36mDataFrame.insert\u001b[0;34m(self, loc, column, value, allow_duplicates)\u001b[0m\n\u001b[1;32m   4428\u001b[0m     \u001b[38;5;28;01mraise\u001b[39;00m \u001b[38;5;167;01mValueError\u001b[39;00m(\n\u001b[1;32m   4429\u001b[0m         \u001b[38;5;124m\"\u001b[39m\u001b[38;5;124mCannot specify \u001b[39m\u001b[38;5;124m'\u001b[39m\u001b[38;5;124mallow_duplicates=True\u001b[39m\u001b[38;5;124m'\u001b[39m\u001b[38;5;124m when \u001b[39m\u001b[38;5;124m\"\u001b[39m\n\u001b[1;32m   4430\u001b[0m         \u001b[38;5;124m\"\u001b[39m\u001b[38;5;124m'\u001b[39m\u001b[38;5;124mself.flags.allows_duplicate_labels\u001b[39m\u001b[38;5;124m'\u001b[39m\u001b[38;5;124m is False.\u001b[39m\u001b[38;5;124m\"\u001b[39m\n\u001b[1;32m   4431\u001b[0m     )\n\u001b[1;32m   4432\u001b[0m \u001b[38;5;28;01mif\u001b[39;00m \u001b[38;5;129;01mnot\u001b[39;00m allow_duplicates \u001b[38;5;129;01mand\u001b[39;00m column \u001b[38;5;129;01min\u001b[39;00m \u001b[38;5;28mself\u001b[39m\u001b[38;5;241m.\u001b[39mcolumns:\n\u001b[1;32m   4433\u001b[0m     \u001b[38;5;66;03m# Should this be a different kind of error??\u001b[39;00m\n\u001b[0;32m-> 4434\u001b[0m     \u001b[38;5;28;01mraise\u001b[39;00m \u001b[38;5;167;01mValueError\u001b[39;00m(\u001b[38;5;124mf\u001b[39m\u001b[38;5;124m\"\u001b[39m\u001b[38;5;124mcannot insert \u001b[39m\u001b[38;5;132;01m{\u001b[39;00mcolumn\u001b[38;5;132;01m}\u001b[39;00m\u001b[38;5;124m, already exists\u001b[39m\u001b[38;5;124m\"\u001b[39m)\n\u001b[1;32m   4435\u001b[0m \u001b[38;5;28;01mif\u001b[39;00m \u001b[38;5;129;01mnot\u001b[39;00m \u001b[38;5;28misinstance\u001b[39m(loc, \u001b[38;5;28mint\u001b[39m):\n\u001b[1;32m   4436\u001b[0m     \u001b[38;5;28;01mraise\u001b[39;00m \u001b[38;5;167;01mTypeError\u001b[39;00m(\u001b[38;5;124m\"\u001b[39m\u001b[38;5;124mloc must be int\u001b[39m\u001b[38;5;124m\"\u001b[39m)\n",
      "\u001b[0;31mValueError\u001b[0m: cannot insert home_avg_rating, already exists"
     ]
    }
   ],
   "source": [
    "\n",
    "# Agrupa por 'Season', 'League', y 'Home', calcula la calificación promedio ('home_avg_rating') para cada equipo en cada temporada y liga\n",
    "df_grouped = final_match_grouped.groupby(['Season', 'League', 'Home', 'home_avg_rating'])['home_avg_rating'].mean().reset_index()\n",
    "\n",
    "# Ordena el DataFrame según 'Season', 'League', y 'home_avg_rating' de forma descendente\n",
    "df_grouped.sort_values(by=['Season', 'League', 'home_avg_rating'], ascending=[True, True, False], inplace=True)\n",
    "\n",
    "# Crea una columna 'Rank' que almacene el rango de cada equipo dentro de cada temporada y liga\n",
    "df_grouped['Rank'] = df_grouped.groupby(['Season', 'League'])['home_avg_rating'].rank(ascending=False, method='min')\n",
    "\n",
    "# Ahora df_grouped contiene la clasificación de equipos por temporada y liga, con 'Rank' indicando su posición en función de 'home_avg_rating'\n",
    "\n",
    "# Si deseas ver el resultado:\n",
    "print(df_grouped)\n"
   ]
  },
  {
   "cell_type": "code",
   "execution_count": 134,
   "id": "2ba37fb8",
   "metadata": {},
   "outputs": [
    {
     "data": {
      "text/html": [
       "<div>\n",
       "<style scoped>\n",
       "    .dataframe tbody tr th:only-of-type {\n",
       "        vertical-align: middle;\n",
       "    }\n",
       "\n",
       "    .dataframe tbody tr th {\n",
       "        vertical-align: top;\n",
       "    }\n",
       "\n",
       "    .dataframe thead th {\n",
       "        text-align: right;\n",
       "    }\n",
       "</style>\n",
       "<table border=\"1\" class=\"dataframe\">\n",
       "  <thead>\n",
       "    <tr style=\"text-align: right;\">\n",
       "      <th></th>\n",
       "      <th>Season</th>\n",
       "      <th>League</th>\n",
       "      <th>Home</th>\n",
       "      <th>home_avg_rating</th>\n",
       "      <th>Rank</th>\n",
       "    </tr>\n",
       "  </thead>\n",
       "  <tbody>\n",
       "    <tr>\n",
       "      <th>12</th>\n",
       "      <td>2014</td>\n",
       "      <td>Allsvenskan</td>\n",
       "      <td>Malmo FF</td>\n",
       "      <td>199.0</td>\n",
       "      <td>1.0</td>\n",
       "    </tr>\n",
       "    <tr>\n",
       "      <th>0</th>\n",
       "      <td>2014</td>\n",
       "      <td>Allsvenskan</td>\n",
       "      <td>AIK</td>\n",
       "      <td>198.0</td>\n",
       "      <td>2.0</td>\n",
       "    </tr>\n",
       "    <tr>\n",
       "      <th>7</th>\n",
       "      <td>2014</td>\n",
       "      <td>Allsvenskan</td>\n",
       "      <td>Goteborg</td>\n",
       "      <td>196.0</td>\n",
       "      <td>3.0</td>\n",
       "    </tr>\n",
       "    <tr>\n",
       "      <th>8</th>\n",
       "      <td>2014</td>\n",
       "      <td>Allsvenskan</td>\n",
       "      <td>Hacken</td>\n",
       "      <td>193.0</td>\n",
       "      <td>4.0</td>\n",
       "    </tr>\n",
       "    <tr>\n",
       "      <th>4</th>\n",
       "      <td>2014</td>\n",
       "      <td>Allsvenskan</td>\n",
       "      <td>Elfsborg</td>\n",
       "      <td>191.0</td>\n",
       "      <td>5.0</td>\n",
       "    </tr>\n",
       "    <tr>\n",
       "      <th>...</th>\n",
       "      <td>...</td>\n",
       "      <td>...</td>\n",
       "      <td>...</td>\n",
       "      <td>...</td>\n",
       "      <td>...</td>\n",
       "    </tr>\n",
       "    <tr>\n",
       "      <th>602</th>\n",
       "      <td>2023</td>\n",
       "      <td>Premier</td>\n",
       "      <td>Nott'm Forest</td>\n",
       "      <td>227.0</td>\n",
       "      <td>14.0</td>\n",
       "    </tr>\n",
       "    <tr>\n",
       "      <th>589</th>\n",
       "      <td>2023</td>\n",
       "      <td>Premier</td>\n",
       "      <td>Bournemouth</td>\n",
       "      <td>224.0</td>\n",
       "      <td>17.0</td>\n",
       "    </tr>\n",
       "    <tr>\n",
       "      <th>603</th>\n",
       "      <td>2023</td>\n",
       "      <td>Premier</td>\n",
       "      <td>Sheffield United</td>\n",
       "      <td>218.0</td>\n",
       "      <td>18.0</td>\n",
       "    </tr>\n",
       "    <tr>\n",
       "      <th>592</th>\n",
       "      <td>2023</td>\n",
       "      <td>Premier</td>\n",
       "      <td>Burnley</td>\n",
       "      <td>216.0</td>\n",
       "      <td>19.0</td>\n",
       "    </tr>\n",
       "    <tr>\n",
       "      <th>598</th>\n",
       "      <td>2023</td>\n",
       "      <td>Premier</td>\n",
       "      <td>Luton</td>\n",
       "      <td>216.0</td>\n",
       "      <td>19.0</td>\n",
       "    </tr>\n",
       "  </tbody>\n",
       "</table>\n",
       "<p>607 rows × 5 columns</p>\n",
       "</div>"
      ],
      "text/plain": [
       "     Season       League              Home  home_avg_rating  Rank\n",
       "12     2014  Allsvenskan          Malmo FF            199.0   1.0\n",
       "0      2014  Allsvenskan               AIK            198.0   2.0\n",
       "7      2014  Allsvenskan          Goteborg            196.0   3.0\n",
       "8      2014  Allsvenskan            Hacken            193.0   4.0\n",
       "4      2014  Allsvenskan          Elfsborg            191.0   5.0\n",
       "..      ...          ...               ...              ...   ...\n",
       "602    2023      Premier     Nott'm Forest            227.0  14.0\n",
       "589    2023      Premier       Bournemouth            224.0  17.0\n",
       "603    2023      Premier  Sheffield United            218.0  18.0\n",
       "592    2023      Premier           Burnley            216.0  19.0\n",
       "598    2023      Premier             Luton            216.0  19.0\n",
       "\n",
       "[607 rows x 5 columns]"
      ]
     },
     "execution_count": 134,
     "metadata": {},
     "output_type": "execute_result"
    }
   ],
   "source": [
    "df_grouped"
   ]
  },
  {
   "cell_type": "code",
   "execution_count": null,
   "id": "2bf22990",
   "metadata": {},
   "outputs": [],
   "source": [
    "#### Not working"
   ]
  },
  {
   "cell_type": "code",
   "execution_count": 2,
   "id": "354722a7",
   "metadata": {},
   "outputs": [],
   "source": [
    "link = 'https://www.fifaindex.com/teams/fifa'\n",
    "link_pages = []\n",
    "for i in range(12,24):\n",
    "    for j in range(1,24):\n",
    "        link_pages.append(f'{link}{i}/?page={j}')"
   ]
  },
  {
   "cell_type": "code",
   "execution_count": 3,
   "id": "cea47596",
   "metadata": {},
   "outputs": [],
   "source": [
    "import glob\n",
    "import os\n",
    "import pandas as pd\n",
    "import numpy as np\n",
    "import re\n",
    "from tqdm import tqdm\n",
    "import time\n",
    "from time import sleep\n",
    "from datetime import datetime\n",
    "tqdm.pandas()\n",
    "from selenium.webdriver.chrome.options import Options\n",
    "from webdriver_manager.chrome import ChromeDriverManager\n",
    "from selenium.webdriver.common.by import By\n",
    "from selenium.webdriver.support.ui import WebDriverWait\n",
    "from selenium.webdriver.support import expected_conditions as EC\n",
    "from selenium.webdriver.chrome.service import Service\n",
    "import math"
   ]
  },
  {
   "cell_type": "code",
   "execution_count": 4,
   "id": "5d91f413",
   "metadata": {},
   "outputs": [
    {
     "ename": "ElementClickInterceptedException",
     "evalue": "Message: element click intercepted: Element <input type=\"submit\" class=\"btn btn-primary w-100\" value=\"Login\"> is not clickable at point (599, 683). Other element would receive the click: <div id=\"gdpr-consent-tool-wrapper\" tabindex=\"-1\" aria-hidden=\"false\" role=\"presentation\" style=\"position: fixed; width: 100%; height: 100%; top: 0px; left: 0px; z-index: 2147483647; background: rgba(0, 0, 0, 0.5);\">...</div>\n  (Session info: chrome=118.0.5993.88)\nStacktrace:\n0   chromedriver                        0x0000000104c68510 chromedriver + 4310288\n1   chromedriver                        0x0000000104c604bc chromedriver + 4277436\n2   chromedriver                        0x0000000104893b6c chromedriver + 293740\n3   chromedriver                        0x00000001048dfcb4 chromedriver + 605364\n4   chromedriver                        0x00000001048ddd7c chromedriver + 597372\n5   chromedriver                        0x00000001048db9a4 chromedriver + 588196\n6   chromedriver                        0x00000001048daa1c chromedriver + 584220\n7   chromedriver                        0x00000001048ceeac chromedriver + 536236\n8   chromedriver                        0x00000001048ce774 chromedriver + 534388\n9   chromedriver                        0x0000000104913e60 chromedriver + 818784\n10  chromedriver                        0x00000001048ccfd0 chromedriver + 528336\n11  chromedriver                        0x00000001048cde7c chromedriver + 532092\n12  chromedriver                        0x0000000104c2e834 chromedriver + 4073524\n13  chromedriver                        0x0000000104c327fc chromedriver + 4089852\n14  chromedriver                        0x0000000104c32c58 chromedriver + 4090968\n15  chromedriver                        0x0000000104c388f8 chromedriver + 4114680\n16  chromedriver                        0x0000000104c33234 chromedriver + 4092468\n17  chromedriver                        0x0000000104c0d604 chromedriver + 3937796\n18  chromedriver                        0x0000000104c4fee8 chromedriver + 4210408\n19  chromedriver                        0x0000000104c50064 chromedriver + 4210788\n20  chromedriver                        0x0000000104c60134 chromedriver + 4276532\n21  libsystem_pthread.dylib             0x0000000188d8e06c _pthread_start + 148\n22  libsystem_pthread.dylib             0x0000000188d88e2c thread_start + 8\n",
     "output_type": "error",
     "traceback": [
      "\u001b[0;31m---------------------------------------------------------------------------\u001b[0m",
      "\u001b[0;31mElementClickInterceptedException\u001b[0m          Traceback (most recent call last)",
      "Input \u001b[0;32mIn [4]\u001b[0m, in \u001b[0;36m<cell line: 18>\u001b[0;34m()\u001b[0m\n\u001b[1;32m     16\u001b[0m driver\u001b[38;5;241m.\u001b[39mfind_element(By\u001b[38;5;241m.\u001b[39mXPATH,\u001b[38;5;124m'\u001b[39m\u001b[38;5;124m//*[@id=\u001b[39m\u001b[38;5;124m\"\u001b[39m\u001b[38;5;124mid_password\u001b[39m\u001b[38;5;124m\"\u001b[39m\u001b[38;5;124m]\u001b[39m\u001b[38;5;124m'\u001b[39m)\u001b[38;5;241m.\u001b[39msend_keys(password)\n\u001b[1;32m     17\u001b[0m time\u001b[38;5;241m.\u001b[39msleep(\u001b[38;5;241m5\u001b[39m)\n\u001b[0;32m---> 18\u001b[0m \u001b[43mdriver\u001b[49m\u001b[38;5;241;43m.\u001b[39;49m\u001b[43mfind_element\u001b[49m\u001b[43m(\u001b[49m\u001b[43mBy\u001b[49m\u001b[38;5;241;43m.\u001b[39;49m\u001b[43mXPATH\u001b[49m\u001b[43m,\u001b[49m\u001b[43m \u001b[49m\u001b[38;5;124;43m'\u001b[39;49m\u001b[38;5;124;43m/html/body/main/div/div/div/div/div/form/div[4]/input\u001b[39;49m\u001b[38;5;124;43m'\u001b[39;49m\u001b[43m)\u001b[49m\u001b[38;5;241;43m.\u001b[39;49m\u001b[43mclick\u001b[49m\u001b[43m(\u001b[49m\u001b[43m)\u001b[49m\n\u001b[1;32m     19\u001b[0m time\u001b[38;5;241m.\u001b[39msleep(\u001b[38;5;241m3\u001b[39m)\n\u001b[1;32m     21\u001b[0m dfs\u001b[38;5;241m=\u001b[39m[]\n",
      "File \u001b[0;32m~/miniforge3/envs/env_tf/lib/python3.9/site-packages/selenium/webdriver/remote/webelement.py:94\u001b[0m, in \u001b[0;36mWebElement.click\u001b[0;34m(self)\u001b[0m\n\u001b[1;32m     92\u001b[0m \u001b[38;5;28;01mdef\u001b[39;00m \u001b[38;5;21mclick\u001b[39m(\u001b[38;5;28mself\u001b[39m) \u001b[38;5;241m-\u001b[39m\u001b[38;5;241m>\u001b[39m \u001b[38;5;28;01mNone\u001b[39;00m:\n\u001b[1;32m     93\u001b[0m     \u001b[38;5;124;03m\"\"\"Clicks the element.\"\"\"\u001b[39;00m\n\u001b[0;32m---> 94\u001b[0m     \u001b[38;5;28;43mself\u001b[39;49m\u001b[38;5;241;43m.\u001b[39;49m\u001b[43m_execute\u001b[49m\u001b[43m(\u001b[49m\u001b[43mCommand\u001b[49m\u001b[38;5;241;43m.\u001b[39;49m\u001b[43mCLICK_ELEMENT\u001b[49m\u001b[43m)\u001b[49m\n",
      "File \u001b[0;32m~/miniforge3/envs/env_tf/lib/python3.9/site-packages/selenium/webdriver/remote/webelement.py:395\u001b[0m, in \u001b[0;36mWebElement._execute\u001b[0;34m(self, command, params)\u001b[0m\n\u001b[1;32m    393\u001b[0m     params \u001b[38;5;241m=\u001b[39m {}\n\u001b[1;32m    394\u001b[0m params[\u001b[38;5;124m\"\u001b[39m\u001b[38;5;124mid\u001b[39m\u001b[38;5;124m\"\u001b[39m] \u001b[38;5;241m=\u001b[39m \u001b[38;5;28mself\u001b[39m\u001b[38;5;241m.\u001b[39m_id\n\u001b[0;32m--> 395\u001b[0m \u001b[38;5;28;01mreturn\u001b[39;00m \u001b[38;5;28;43mself\u001b[39;49m\u001b[38;5;241;43m.\u001b[39;49m\u001b[43m_parent\u001b[49m\u001b[38;5;241;43m.\u001b[39;49m\u001b[43mexecute\u001b[49m\u001b[43m(\u001b[49m\u001b[43mcommand\u001b[49m\u001b[43m,\u001b[49m\u001b[43m \u001b[49m\u001b[43mparams\u001b[49m\u001b[43m)\u001b[49m\n",
      "File \u001b[0;32m~/miniforge3/envs/env_tf/lib/python3.9/site-packages/selenium/webdriver/remote/webdriver.py:345\u001b[0m, in \u001b[0;36mWebDriver.execute\u001b[0;34m(self, driver_command, params)\u001b[0m\n\u001b[1;32m    343\u001b[0m response \u001b[38;5;241m=\u001b[39m \u001b[38;5;28mself\u001b[39m\u001b[38;5;241m.\u001b[39mcommand_executor\u001b[38;5;241m.\u001b[39mexecute(driver_command, params)\n\u001b[1;32m    344\u001b[0m \u001b[38;5;28;01mif\u001b[39;00m response:\n\u001b[0;32m--> 345\u001b[0m     \u001b[38;5;28;43mself\u001b[39;49m\u001b[38;5;241;43m.\u001b[39;49m\u001b[43merror_handler\u001b[49m\u001b[38;5;241;43m.\u001b[39;49m\u001b[43mcheck_response\u001b[49m\u001b[43m(\u001b[49m\u001b[43mresponse\u001b[49m\u001b[43m)\u001b[49m\n\u001b[1;32m    346\u001b[0m     response[\u001b[38;5;124m\"\u001b[39m\u001b[38;5;124mvalue\u001b[39m\u001b[38;5;124m\"\u001b[39m] \u001b[38;5;241m=\u001b[39m \u001b[38;5;28mself\u001b[39m\u001b[38;5;241m.\u001b[39m_unwrap_value(response\u001b[38;5;241m.\u001b[39mget(\u001b[38;5;124m\"\u001b[39m\u001b[38;5;124mvalue\u001b[39m\u001b[38;5;124m\"\u001b[39m, \u001b[38;5;28;01mNone\u001b[39;00m))\n\u001b[1;32m    347\u001b[0m     \u001b[38;5;28;01mreturn\u001b[39;00m response\n",
      "File \u001b[0;32m~/miniforge3/envs/env_tf/lib/python3.9/site-packages/selenium/webdriver/remote/errorhandler.py:229\u001b[0m, in \u001b[0;36mErrorHandler.check_response\u001b[0;34m(self, response)\u001b[0m\n\u001b[1;32m    227\u001b[0m         alert_text \u001b[38;5;241m=\u001b[39m value[\u001b[38;5;124m\"\u001b[39m\u001b[38;5;124malert\u001b[39m\u001b[38;5;124m\"\u001b[39m]\u001b[38;5;241m.\u001b[39mget(\u001b[38;5;124m\"\u001b[39m\u001b[38;5;124mtext\u001b[39m\u001b[38;5;124m\"\u001b[39m)\n\u001b[1;32m    228\u001b[0m     \u001b[38;5;28;01mraise\u001b[39;00m exception_class(message, screen, stacktrace, alert_text)  \u001b[38;5;66;03m# type: ignore[call-arg]  # mypy is not smart enough here\u001b[39;00m\n\u001b[0;32m--> 229\u001b[0m \u001b[38;5;28;01mraise\u001b[39;00m exception_class(message, screen, stacktrace)\n",
      "\u001b[0;31mElementClickInterceptedException\u001b[0m: Message: element click intercepted: Element <input type=\"submit\" class=\"btn btn-primary w-100\" value=\"Login\"> is not clickable at point (599, 683). Other element would receive the click: <div id=\"gdpr-consent-tool-wrapper\" tabindex=\"-1\" aria-hidden=\"false\" role=\"presentation\" style=\"position: fixed; width: 100%; height: 100%; top: 0px; left: 0px; z-index: 2147483647; background: rgba(0, 0, 0, 0.5);\">...</div>\n  (Session info: chrome=118.0.5993.88)\nStacktrace:\n0   chromedriver                        0x0000000104c68510 chromedriver + 4310288\n1   chromedriver                        0x0000000104c604bc chromedriver + 4277436\n2   chromedriver                        0x0000000104893b6c chromedriver + 293740\n3   chromedriver                        0x00000001048dfcb4 chromedriver + 605364\n4   chromedriver                        0x00000001048ddd7c chromedriver + 597372\n5   chromedriver                        0x00000001048db9a4 chromedriver + 588196\n6   chromedriver                        0x00000001048daa1c chromedriver + 584220\n7   chromedriver                        0x00000001048ceeac chromedriver + 536236\n8   chromedriver                        0x00000001048ce774 chromedriver + 534388\n9   chromedriver                        0x0000000104913e60 chromedriver + 818784\n10  chromedriver                        0x00000001048ccfd0 chromedriver + 528336\n11  chromedriver                        0x00000001048cde7c chromedriver + 532092\n12  chromedriver                        0x0000000104c2e834 chromedriver + 4073524\n13  chromedriver                        0x0000000104c327fc chromedriver + 4089852\n14  chromedriver                        0x0000000104c32c58 chromedriver + 4090968\n15  chromedriver                        0x0000000104c388f8 chromedriver + 4114680\n16  chromedriver                        0x0000000104c33234 chromedriver + 4092468\n17  chromedriver                        0x0000000104c0d604 chromedriver + 3937796\n18  chromedriver                        0x0000000104c4fee8 chromedriver + 4210408\n19  chromedriver                        0x0000000104c50064 chromedriver + 4210788\n20  chromedriver                        0x0000000104c60134 chromedriver + 4276532\n21  libsystem_pthread.dylib             0x0000000188d8e06c _pthread_start + 148\n22  libsystem_pthread.dylib             0x0000000188d88e2c thread_start + 8\n"
     ]
    }
   ],
   "source": [
    "from selenium import webdriver\n",
    "from selenium.webdriver.common.keys import Keys\n",
    "s=Service(ChromeDriverManager().install()) #MAC user might need this\n",
    "driver = webdriver.Chrome(service=s)\n",
    "handle = 'quinoba'\n",
    "password = 'Joaquin2078'\n",
    "\n",
    "driver.get('https://www.fifaindex.com/accounts/login/')\n",
    "#driver.maximize_window()\n",
    "time.sleep(3)\n",
    "#login\n",
    "driver.find_element(By.XPATH,'//*[@id=\"id_login\"]').send_keys(handle)\n",
    "time.sleep(3)\n",
    "driver.find_element(By.XPATH, '//*[@id=\"gdpr-consent-tool-wrapper\"]').click()\n",
    "time.sleep(3)\n",
    "driver.find_element(By.XPATH,'//*[@id=\"id_password\"]').send_keys(password)\n",
    "time.sleep(5)\n",
    "driver.find_element(By.XPATH, '/html/body/main/div/div/div/div/div/form/div[4]/input').click()\n",
    "time.sleep(3)\n",
    "\n",
    "dfs=[]\n",
    "\n",
    "\n",
    "\n",
    "\n",
    "for link in tqdm(link_pages[0:5]):\n",
    "    teams = []\n",
    "    leagues = []\n",
    "    atts = []\n",
    "    mids = []\n",
    "    deffs = []\n",
    "    ovrs = []\n",
    "    try:\n",
    "        driver.get(link)\n",
    "        sleep(5)\n",
    "    except:\n",
    "        pass\n",
    "        team = driver.find_elements(By.CLASS_NAME,\"link-team\")\n",
    "        league = driver.find_elements(By.CLASS_NAME,\"link-league\")\n",
    "\n",
    "        for team_element in team:\n",
    "            team_text = team_element.text\n",
    "            teams.append(team_text)\n",
    "            teams = [item for item in teams if item != '']\n",
    "\n",
    "        for league_element in league:\n",
    "            league_text = league_element.text\n",
    "            leagues.append(league_text)\n",
    "\n",
    "        for t in range(1, 60):\n",
    "            try:\n",
    "                att =  driver.find_element(By.XPATH,f\"/html/body/main/div/div/div[2]/div[2]/table/tbody/tr[{t+2}]/td[4]/span\").text\n",
    "                atts.append(att)\n",
    "                mid = driver.find_element(By.XPATH,f\"/html/body/main/div/div/div[2]/div[2]/table/tbody/tr[{t+2}]/td[5]/span\").text\n",
    "                mids.append(mid)\n",
    "                deff = driver.find_element(By.XPATH,f\"/html/body/main/div/div/div[2]/div[2]/table/tbody/tr[{t+2}]/td[6]/span\").text\n",
    "                deffs.append(deff)\n",
    "                ovr = driver.find_element(By.XPATH,f\"/html/body/main/div/div/div[2]/div[2]/table/tbody/tr[{t+2}]/td[7]/span\").text\n",
    "                ovrs.append(ovr)\n",
    "            except:\n",
    "                pass\n",
    "            \n",
    "    df = pd.DataFrame({'Team': teams,\n",
    "                 'year': link.split('/')[4].replace('fifa', '20'),\n",
    "                 'league': leagues,\n",
    "                 'att_rating': atts,\n",
    "                 'mid_rating': mids,\n",
    "                 'def_rating': deffs,\n",
    "                 'ovr_rating': ovrs})\n",
    "    dfs.append(df)"
   ]
  },
  {
   "cell_type": "code",
   "execution_count": 6,
   "id": "9f2a6f7e",
   "metadata": {},
   "outputs": [
    {
     "data": {
      "text/plain": [
       "<bound method WebElement.click of <selenium.webdriver.remote.webelement.WebElement (session=\"e9524a9cbd67b2cebf08d093d917051b\", element=\"7D35AE4A570121FC4C32ABD803C60322_element_25\")>>"
      ]
     },
     "execution_count": 6,
     "metadata": {},
     "output_type": "execute_result"
    }
   ],
   "source": [
    "a.click"
   ]
  },
  {
   "cell_type": "code",
   "execution_count": 9,
   "id": "ec5a7281",
   "metadata": {},
   "outputs": [
    {
     "data": {
      "text/plain": [
       "['90',\n",
       " '86',\n",
       " '83',\n",
       " '86',\n",
       " '86',\n",
       " '84',\n",
       " '84',\n",
       " '83',\n",
       " '84',\n",
       " '82',\n",
       " '80',\n",
       " '81',\n",
       " '85',\n",
       " '82',\n",
       " '82',\n",
       " '81',\n",
       " '80',\n",
       " '82',\n",
       " '82',\n",
       " '82',\n",
       " '82',\n",
       " '81',\n",
       " '80',\n",
       " '80',\n",
       " '78',\n",
       " '73',\n",
       " '84',\n",
       " '81',\n",
       " '81',\n",
       " '79']"
      ]
     },
     "execution_count": 9,
     "metadata": {},
     "output_type": "execute_result"
    }
   ],
   "source": [
    "/html/body/main/div/div/div[2]/div[2]/table/tbody/tr[3]/td[5]/span"
   ]
  },
  {
   "cell_type": "code",
   "execution_count": 67,
   "id": "2d6c342b",
   "metadata": {},
   "outputs": [],
   "source": [
    "from bs4 import BeautifulSoup\n",
    "import requests\n",
    "from tqdm import tqdm\n",
    "\n",
    "def get_ratings(link_pages):\n",
    "    teams = []\n",
    "    years = []\n",
    "    leagues = []\n",
    "    atts = []\n",
    "    mids = []\n",
    "    deffs = []\n",
    "    ovrs = []\n",
    "\n",
    "    for link in tqdm(link_pages):\n",
    "        r = requests.get(link)\n",
    "        if r.status_code == 200:\n",
    "            soup = BeautifulSoup(r.content, 'html.parser')\n",
    "            \n",
    "            # Encuentra todos los elementos con la clase 'link-team'\n",
    "            team_elements = soup.find_all(class_='link-team')\n",
    "            \n",
    "            # Itera a través de los elementos encontrados y obtén el texto de cada uno\n",
    "            for team_element in team_elements:\n",
    "                team_name = team_element.get_text()\n",
    "                teams.append(team_name)\n",
    "                \n",
    "                # Aquí puedes realizar más operaciones para obtener otros datos, si es necesario\n",
    "\n",
    "    # Ahora, la lista 'teams' contendrá todos los textos de los elementos con la clase 'link-team'\n",
    "    return teams\n",
    "\n",
    "            "
   ]
  },
  {
   "cell_type": "code",
   "execution_count": 68,
   "id": "44bbc84e",
   "metadata": {},
   "outputs": [
    {
     "name": "stderr",
     "output_type": "stream",
     "text": [
      "100%|██████████| 2/2 [00:00<00:00, 12.56it/s]\n"
     ]
    },
    {
     "data": {
      "text/plain": [
       "[]"
      ]
     },
     "execution_count": 68,
     "metadata": {},
     "output_type": "execute_result"
    }
   ],
   "source": [
    "get_ratings(link_pages[0:2])"
   ]
  },
  {
   "cell_type": "code",
   "execution_count": 69,
   "id": "a965bf5e",
   "metadata": {},
   "outputs": [
    {
     "data": {
      "text/plain": [
       "'https://www.fifaindex.com/teams/fifa12/?page=1'"
      ]
     },
     "execution_count": 69,
     "metadata": {},
     "output_type": "execute_result"
    }
   ],
   "source": [
    "link_pages[0]"
   ]
  },
  {
   "cell_type": "code",
   "execution_count": 76,
   "id": "7914f74d",
   "metadata": {},
   "outputs": [
    {
     "data": {
      "text/plain": [
       "403"
      ]
     },
     "execution_count": 76,
     "metadata": {},
     "output_type": "execute_result"
    }
   ],
   "source": [
    "r = requests.get(link_pages[0])\n",
    "r.status_code"
   ]
  },
  {
   "cell_type": "code",
   "execution_count": 77,
   "id": "49ade075",
   "metadata": {},
   "outputs": [
    {
     "data": {
      "text/plain": [
       "'<!DOCTYPE html>\\n<!--[if lt IE 7]> <html class=\"no-js ie6 oldie\" lang=\"en-US\"> <![endif]-->\\n<!--[if IE 7]>    <html class=\"no-js ie7 oldie\" lang=\"en-US\"> <![endif]-->\\n<!--[if IE 8]>    <html class=\"no-js ie8 oldie\" lang=\"en-US\"> <![endif]-->\\n<!--[if gt IE 8]><!--> <html class=\"no-js\" lang=\"en-US\"> <!--<![endif]-->\\n<head>\\n<title>Attention Required! | Cloudflare</title>\\n<meta charset=\"UTF-8\" />\\n<meta http-equiv=\"Content-Type\" content=\"text/html; charset=UTF-8\" />\\n<meta http-equiv=\"X-UA-Compatible\" content=\"IE=Edge\" />\\n<meta name=\"robots\" content=\"noindex, nofollow\" />\\n<meta name=\"viewport\" content=\"width=device-width,initial-scale=1\" />\\n<link rel=\"stylesheet\" id=\"cf_styles-css\" href=\"/cdn-cgi/styles/cf.errors.css\" />\\n<!--[if lt IE 9]><link rel=\"stylesheet\" id=\\'cf_styles-ie-css\\' href=\"/cdn-cgi/styles/cf.errors.ie.css\" /><![endif]-->\\n<style>body{margin:0;padding:0}</style>\\n\\n\\n<!--[if gte IE 10]><!-->\\n<script>\\n  if (!navigator.cookieEnabled) {\\n    window.addEventListener(\\'DOMContentLoaded\\', function () {\\n      var cookieEl = document.getElementById(\\'cookie-alert\\');\\n      cookieEl.style.display = \\'block\\';\\n    })\\n  }\\n</script>\\n<!--<![endif]-->\\n\\n\\n</head>\\n<body>\\n  <div id=\"cf-wrapper\">\\n    <div class=\"cf-alert cf-alert-error cf-cookie-error\" id=\"cookie-alert\" data-translate=\"enable_cookies\">Please enable cookies.</div>\\n    <div id=\"cf-error-details\" class=\"cf-error-details-wrapper\">\\n      <div class=\"cf-wrapper cf-header cf-error-overview\">\\n        <h1 data-translate=\"block_headline\">Sorry, you have been blocked</h1>\\n        <h2 class=\"cf-subheadline\"><span data-translate=\"unable_to_access\">You are unable to access</span> fifaindex.com</h2>\\n      </div><!-- /.header -->\\n\\n      <div class=\"cf-section cf-highlight\">\\n        <div class=\"cf-wrapper\">\\n          <div class=\"cf-screenshot-container cf-screenshot-full\">\\n            \\n              <span class=\"cf-no-screenshot error\"></span>\\n            \\n          </div>\\n        </div>\\n      </div><!-- /.captcha-container -->\\n\\n      <div class=\"cf-section cf-wrapper\">\\n        <div class=\"cf-columns two\">\\n          <div class=\"cf-column\">\\n            <h2 data-translate=\"blocked_why_headline\">Why have I been blocked?</h2>\\n\\n            <p data-translate=\"blocked_why_detail\">This website is using a security service to protect itself from online attacks. The action you just performed triggered the security solution. There are several actions that could trigger this block including submitting a certain word or phrase, a SQL command or malformed data.</p>\\n          </div>\\n\\n          <div class=\"cf-column\">\\n            <h2 data-translate=\"blocked_resolve_headline\">What can I do to resolve this?</h2>\\n\\n            <p data-translate=\"blocked_resolve_detail\">You can email the site owner to let them know you were blocked. Please include what you were doing when this page came up and the Cloudflare Ray ID found at the bottom of this page.</p>\\n          </div>\\n        </div>\\n      </div><!-- /.section -->\\n\\n      <div class=\"cf-error-footer cf-wrapper w-240 lg:w-full py-10 sm:py-4 sm:px-8 mx-auto text-center sm:text-left border-solid border-0 border-t border-gray-300\">\\n  <p class=\"text-13\">\\n    <span class=\"cf-footer-item sm:block sm:mb-1\">Cloudflare Ray ID: <strong class=\"font-semibold\">819310815f8b2df5</strong></span>\\n    <span class=\"cf-footer-separator sm:hidden\">&bull;</span>\\n    <span id=\"cf-footer-item-ip\" class=\"cf-footer-item hidden sm:block sm:mb-1\">\\n      Your IP:\\n      <button type=\"button\" id=\"cf-footer-ip-reveal\" class=\"cf-footer-ip-reveal-btn\">Click to reveal</button>\\n      <span class=\"hidden\" id=\"cf-footer-ip\">130.243.228.160</span>\\n      <span class=\"cf-footer-separator sm:hidden\">&bull;</span>\\n    </span>\\n    <span class=\"cf-footer-item sm:block sm:mb-1\"><span>Performance &amp; security by</span> <a rel=\"noopener noreferrer\" href=\"https://www.cloudflare.com/5xx-error-landing\" id=\"brand_link\" target=\"_blank\">Cloudflare</a></span>\\n    \\n  </p>\\n  <script>(function(){function d(){var b=a.getElementById(\"cf-footer-item-ip\"),c=a.getElementById(\"cf-footer-ip-reveal\");b&&\"classList\"in b&&(b.classList.remove(\"hidden\"),c.addEventListener(\"click\",function(){c.classList.add(\"hidden\");a.getElementById(\"cf-footer-ip\").classList.remove(\"hidden\")}))}var a=document;document.addEventListener&&a.addEventListener(\"DOMContentLoaded\",d)})();</script>\\n</div><!-- /.error-footer -->\\n\\n\\n    </div><!-- /#cf-error-details -->\\n  </div><!-- /#cf-wrapper -->\\n\\n  <script>\\n  window._cf_translation = {};\\n  \\n  \\n</script>\\n\\n<script>(function(){var js = \"window[\\'__CF$cv$params\\']={r:\\'819310815f8b2df5\\',t:\\'MTY5NzgyMzgyMS4wMjcwMDA=\\'};_cpo=document.createElement(\\'script\\');_cpo.nonce=\\'\\',_cpo.src=\\'/cdn-cgi/challenge-platform/scripts/jsd/main.js\\',document.getElementsByTagName(\\'head\\')[0].appendChild(_cpo);\";var _0xh = document.createElement(\\'iframe\\');_0xh.height = 1;_0xh.width = 1;_0xh.style.position = \\'absolute\\';_0xh.style.top = 0;_0xh.style.left = 0;_0xh.style.border = \\'none\\';_0xh.style.visibility = \\'hidden\\';document.body.appendChild(_0xh);function handler() {var _0xi = _0xh.contentDocument || _0xh.contentWindow.document;if (_0xi) {var _0xj = _0xi.createElement(\\'script\\');_0xj.innerHTML = js;_0xi.getElementsByTagName(\\'head\\')[0].appendChild(_0xj);}}if (document.readyState !== \\'loading\\') {handler();} else if (window.addEventListener) {document.addEventListener(\\'DOMContentLoaded\\', handler);} else {var prev = document.onreadystatechange || function () {};document.onreadystatechange = function (e) {prev(e);if (document.readyState !== \\'loading\\') {document.onreadystatechange = prev;handler();}};}})();</script></body>\\n</html>\\n'"
      ]
     },
     "execution_count": 77,
     "metadata": {},
     "output_type": "execute_result"
    }
   ],
   "source": [
    "r.text"
   ]
  },
  {
   "cell_type": "code",
   "execution_count": 72,
   "id": "14a169bb",
   "metadata": {},
   "outputs": [],
   "source": [
    "soup = BeautifulSoup(r.content, 'html.parser')"
   ]
  },
  {
   "cell_type": "code",
   "execution_count": 73,
   "id": "d87e1821",
   "metadata": {},
   "outputs": [],
   "source": [
    "team_elements = soup.find_all(class_='link-team')"
   ]
  },
  {
   "cell_type": "code",
   "execution_count": 75,
   "id": "96df8678",
   "metadata": {},
   "outputs": [
    {
     "data": {
      "text/plain": [
       "<!DOCTYPE html>\n",
       "\n",
       "<!--[if lt IE 7]> <html class=\"no-js ie6 oldie\" lang=\"en-US\"> <![endif]-->\n",
       "<!--[if IE 7]>    <html class=\"no-js ie7 oldie\" lang=\"en-US\"> <![endif]-->\n",
       "<!--[if IE 8]>    <html class=\"no-js ie8 oldie\" lang=\"en-US\"> <![endif]-->\n",
       "<!--[if gt IE 8]><!--> <html class=\"no-js\" lang=\"en-US\"> <!--<![endif]-->\n",
       "<head>\n",
       "<title>Attention Required! | Cloudflare</title>\n",
       "<meta charset=\"utf-8\"/>\n",
       "<meta content=\"text/html; charset=utf-8\" http-equiv=\"Content-Type\"/>\n",
       "<meta content=\"IE=Edge\" http-equiv=\"X-UA-Compatible\"/>\n",
       "<meta content=\"noindex, nofollow\" name=\"robots\"/>\n",
       "<meta content=\"width=device-width,initial-scale=1\" name=\"viewport\"/>\n",
       "<link href=\"/cdn-cgi/styles/cf.errors.css\" id=\"cf_styles-css\" rel=\"stylesheet\"/>\n",
       "<!--[if lt IE 9]><link rel=\"stylesheet\" id='cf_styles-ie-css' href=\"/cdn-cgi/styles/cf.errors.ie.css\" /><![endif]-->\n",
       "<style>body{margin:0;padding:0}</style>\n",
       "<!--[if gte IE 10]><!-->\n",
       "<script>\n",
       "  if (!navigator.cookieEnabled) {\n",
       "    window.addEventListener('DOMContentLoaded', function () {\n",
       "      var cookieEl = document.getElementById('cookie-alert');\n",
       "      cookieEl.style.display = 'block';\n",
       "    })\n",
       "  }\n",
       "</script>\n",
       "<!--<![endif]-->\n",
       "</head>\n",
       "<body>\n",
       "<div id=\"cf-wrapper\">\n",
       "<div class=\"cf-alert cf-alert-error cf-cookie-error\" data-translate=\"enable_cookies\" id=\"cookie-alert\">Please enable cookies.</div>\n",
       "<div class=\"cf-error-details-wrapper\" id=\"cf-error-details\">\n",
       "<div class=\"cf-wrapper cf-header cf-error-overview\">\n",
       "<h1 data-translate=\"block_headline\">Sorry, you have been blocked</h1>\n",
       "<h2 class=\"cf-subheadline\"><span data-translate=\"unable_to_access\">You are unable to access</span> fifaindex.com</h2>\n",
       "</div><!-- /.header -->\n",
       "<div class=\"cf-section cf-highlight\">\n",
       "<div class=\"cf-wrapper\">\n",
       "<div class=\"cf-screenshot-container cf-screenshot-full\">\n",
       "<span class=\"cf-no-screenshot error\"></span>\n",
       "</div>\n",
       "</div>\n",
       "</div><!-- /.captcha-container -->\n",
       "<div class=\"cf-section cf-wrapper\">\n",
       "<div class=\"cf-columns two\">\n",
       "<div class=\"cf-column\">\n",
       "<h2 data-translate=\"blocked_why_headline\">Why have I been blocked?</h2>\n",
       "<p data-translate=\"blocked_why_detail\">This website is using a security service to protect itself from online attacks. The action you just performed triggered the security solution. There are several actions that could trigger this block including submitting a certain word or phrase, a SQL command or malformed data.</p>\n",
       "</div>\n",
       "<div class=\"cf-column\">\n",
       "<h2 data-translate=\"blocked_resolve_headline\">What can I do to resolve this?</h2>\n",
       "<p data-translate=\"blocked_resolve_detail\">You can email the site owner to let them know you were blocked. Please include what you were doing when this page came up and the Cloudflare Ray ID found at the bottom of this page.</p>\n",
       "</div>\n",
       "</div>\n",
       "</div><!-- /.section -->\n",
       "<div class=\"cf-error-footer cf-wrapper w-240 lg:w-full py-10 sm:py-4 sm:px-8 mx-auto text-center sm:text-left border-solid border-0 border-t border-gray-300\">\n",
       "<p class=\"text-13\">\n",
       "<span class=\"cf-footer-item sm:block sm:mb-1\">Cloudflare Ray ID: <strong class=\"font-semibold\">819306e37c9e2e0d</strong></span>\n",
       "<span class=\"cf-footer-separator sm:hidden\">•</span>\n",
       "<span class=\"cf-footer-item hidden sm:block sm:mb-1\" id=\"cf-footer-item-ip\">\n",
       "      Your IP:\n",
       "      <button class=\"cf-footer-ip-reveal-btn\" id=\"cf-footer-ip-reveal\" type=\"button\">Click to reveal</button>\n",
       "<span class=\"hidden\" id=\"cf-footer-ip\">130.243.228.160</span>\n",
       "<span class=\"cf-footer-separator sm:hidden\">•</span>\n",
       "</span>\n",
       "<span class=\"cf-footer-item sm:block sm:mb-1\"><span>Performance &amp; security by</span> <a href=\"https://www.cloudflare.com/5xx-error-landing\" id=\"brand_link\" rel=\"noopener noreferrer\" target=\"_blank\">Cloudflare</a></span>\n",
       "</p>\n",
       "<script>(function(){function d(){var b=a.getElementById(\"cf-footer-item-ip\"),c=a.getElementById(\"cf-footer-ip-reveal\");b&&\"classList\"in b&&(b.classList.remove(\"hidden\"),c.addEventListener(\"click\",function(){c.classList.add(\"hidden\");a.getElementById(\"cf-footer-ip\").classList.remove(\"hidden\")}))}var a=document;document.addEventListener&&a.addEventListener(\"DOMContentLoaded\",d)})();</script>\n",
       "</div><!-- /.error-footer -->\n",
       "</div><!-- /#cf-error-details -->\n",
       "</div><!-- /#cf-wrapper -->\n",
       "<script>\n",
       "  window._cf_translation = {};\n",
       "  \n",
       "  \n",
       "</script>\n",
       "<script>(function(){var js = \"window['__CF$cv$params']={r:'819306e37c9e2e0d',t:'MTY5NzgyMzQyNy4xMTYwMDA='};_cpo=document.createElement('script');_cpo.nonce='',_cpo.src='/cdn-cgi/challenge-platform/scripts/jsd/main.js',document.getElementsByTagName('head')[0].appendChild(_cpo);\";var _0xh = document.createElement('iframe');_0xh.height = 1;_0xh.width = 1;_0xh.style.position = 'absolute';_0xh.style.top = 0;_0xh.style.left = 0;_0xh.style.border = 'none';_0xh.style.visibility = 'hidden';document.body.appendChild(_0xh);function handler() {var _0xi = _0xh.contentDocument || _0xh.contentWindow.document;if (_0xi) {var _0xj = _0xi.createElement('script');_0xj.innerHTML = js;_0xi.getElementsByTagName('head')[0].appendChild(_0xj);}}if (document.readyState !== 'loading') {handler();} else if (window.addEventListener) {document.addEventListener('DOMContentLoaded', handler);} else {var prev = document.onreadystatechange || function () {};document.onreadystatechange = function (e) {prev(e);if (document.readyState !== 'loading') {document.onreadystatechange = prev;handler();}};}})();</script></body>\n",
       "</html>"
      ]
     },
     "execution_count": 75,
     "metadata": {},
     "output_type": "execute_result"
    }
   ],
   "source": [
    "soup"
   ]
  }
 ],
 "metadata": {
  "kernelspec": {
   "display_name": "Python 3",
   "language": "python",
   "name": "python3"
  },
  "language_info": {
   "codemirror_mode": {
    "name": "ipython",
    "version": 3
   },
   "file_extension": ".py",
   "mimetype": "text/x-python",
   "name": "python",
   "nbconvert_exporter": "python",
   "pygments_lexer": "ipython3",
   "version": "3.9.11"
  }
 },
 "nbformat": 4,
 "nbformat_minor": 5
}
